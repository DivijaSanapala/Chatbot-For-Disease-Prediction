{
  "cells": [
    {
      "cell_type": "markdown",
      "metadata": {
        "id": "view-in-github",
        "colab_type": "text"
      },
      "source": [
        "<a href=\"https://colab.research.google.com/github/DivijaSanapala/Chatbot-For-Disease-Prediction/blob/main/Chatbot_AI.ipynb\" target=\"_parent\"><img src=\"https://colab.research.google.com/assets/colab-badge.svg\" alt=\"Open In Colab\"/></a>"
      ]
    },
    {
      "cell_type": "code",
      "execution_count": null,
      "metadata": {
        "colab": {
          "base_uri": "https://localhost:8080/"
        },
        "id": "L8HJY78Wf5c_",
        "outputId": "199d3a59-8524-4b2e-8e27-2eb1d0fb9eb2"
      },
      "outputs": [
        {
          "name": "stdout",
          "output_type": "stream",
          "text": [
            "Requirement already satisfied: nltk in /usr/local/lib/python3.7/dist-packages (3.2.5)\n",
            "Requirement already satisfied: six in /usr/local/lib/python3.7/dist-packages (from nltk) (1.15.0)\n"
          ]
        }
      ],
      "source": [
        "pip install nltk"
      ]
    },
    {
      "cell_type": "code",
      "execution_count": null,
      "metadata": {
        "colab": {
          "base_uri": "https://localhost:8080/"
        },
        "id": "1sqRu9UxgRUu",
        "outputId": "4af1a6a2-00e1-4996-e0d7-66e783df3f5c"
      },
      "outputs": [
        {
          "name": "stdout",
          "output_type": "stream",
          "text": [
            "[nltk_data] Downloading package punkt to /root/nltk_data...\n",
            "[nltk_data]   Package punkt is already up-to-date!\n",
            "[nltk_data] Downloading package wordnet to /root/nltk_data...\n",
            "[nltk_data]   Package wordnet is already up-to-date!\n"
          ]
        },
        {
          "data": {
            "text/plain": [
              "True"
            ]
          },
          "execution_count": 18,
          "metadata": {},
          "output_type": "execute_result"
        }
      ],
      "source": [
        "import nltk\n",
        "from nltk.stem import WordNetLemmatizer\n",
        "nltk.download('popular', quiet=True) # for downloading popular packages\n",
        "nltk.download('punkt') \n",
        "nltk.download('wordnet')\n"
      ]
    },
    {
      "cell_type": "code",
      "execution_count": null,
      "metadata": {
        "id": "GkAt1S3hgVxT"
      },
      "outputs": [],
      "source": [
        "import io\n",
        "import random\n",
        "import string # to process standard python strings\n",
        "import warnings\n",
        "import numpy as np\n",
        "from sklearn.feature_extraction.text import TfidfVectorizer\n",
        "from sklearn.metrics.pairwise import cosine_similarity\n",
        "import warnings\n",
        "warnings.filterwarnings('ignore')"
      ]
    },
    {
      "cell_type": "code",
      "execution_count": null,
      "metadata": {
        "id": "Y9z_4AELg2b6"
      },
      "outputs": [],
      "source": [
        "f=open('/content/kkk.txt','r',errors = 'ignore')\n",
        "raw=f.read()\n",
        "raw = raw.lower()# converts to lowercase"
      ]
    },
    {
      "cell_type": "code",
      "execution_count": null,
      "metadata": {
        "id": "8xLc0ABWiDoU"
      },
      "outputs": [],
      "source": [
        "sent_tokens = nltk.sent_tokenize(raw)# converts to list of sentences \n",
        "word_tokens = nltk.word_tokenize(raw)# converts to list of words"
      ]
    },
    {
      "cell_type": "code",
      "execution_count": null,
      "metadata": {
        "id": "RMxpgkcciHnV"
      },
      "outputs": [],
      "source": [
        "lemmer = nltk.stem.WordNetLemmatizer()\n",
        "#WordNet is a semantically-oriented dictionary of English included in NLTK.\n",
        "def LemTokens(tokens):\n",
        "    return [lemmer.lemmatize(token) for token in tokens]\n",
        "remove_punct_dict = dict((ord(punct), None) for punct in string.punctuation)\n",
        "\n",
        "def LemNormalize(text):\n",
        "    return LemTokens(nltk.word_tokenize(text.lower().translate(remove_punct_dict)))"
      ]
    },
    {
      "cell_type": "code",
      "execution_count": null,
      "metadata": {
        "id": "947MQP4SiI2G"
      },
      "outputs": [],
      "source": [
        "GREETING_INPUTS = (\"hello\", \"hi\", \"greetings\", \"sup\", \"what's up\",\"hey\",)\n",
        "GREETING_RESPONSES = [\"Hi\\n\", \"Hey\\n\", \"Hi there\\n\", \"Hello\\n\", \"I am glad! You are talking to me\\n\"]\n",
        "def greeting(sentence):\n",
        " \n",
        "    for word in sentence.split():\n",
        "        if word.lower() in GREETING_INPUTS:\n",
        "            return random.choice(GREETING_RESPONSES)"
      ]
    },
    {
      "cell_type": "markdown",
      "metadata": {
        "id": "O0HXYaT44EXt"
      },
      "source": []
    },
    {
      "cell_type": "code",
      "execution_count": null,
      "metadata": {
        "id": "FmBxvh3R3QpT"
      },
      "outputs": [],
      "source": [
        "feeling_well_input=[\"i\",\"am\",\"not\",\"feeling\",\"well\"]\n",
        "feeling_well_response=[\"I am really sorry to hear that😞!\\nKindly describe your Symptoms?\\n\"]\n",
        "def well(sentence):\n",
        "  for ord in sentence.split():\n",
        "    if ord.lower() in feeling_well_input:\n",
        "      return random.choice(feeling_well_response)"
      ]
    },
    {
      "cell_type": "code",
      "execution_count": null,
      "metadata": {
        "id": "iZGJp8fHiKwC"
      },
      "outputs": [],
      "source": [
        "def response(user_response):\n",
        "    robo_response=''\n",
        "    sent_tokens.append(user_response)\n",
        "    TfidfVec = TfidfVectorizer(tokenizer=LemNormalize, stop_words='english')\n",
        "    tfidf = TfidfVec.fit_transform(sent_tokens)\n",
        "    vals = cosine_similarity(tfidf[-1], tfidf)\n",
        "    idx=vals.argsort()[0][-2]\n",
        "    flat = vals.flatten()\n",
        "    flat.sort()\n",
        "    req_tfidf = flat[-2]\n",
        "    if(req_tfidf==0):\n",
        "        robo_response=robo_response+\"I am sorry! I don't understand you\\n\"  \n",
        "        return robo_response\n",
        "    else:\n",
        "        robo_response = robo_response+sent_tokens[idx]\n",
        "        return robo_response"
      ]
    },
    {
      "cell_type": "code",
      "execution_count": null,
      "metadata": {
        "colab": {
          "background_save": true,
          "base_uri": "https://localhost:8080/"
        },
        "id": "K6yHUaq1iPfj",
        "outputId": "6ddb7463-be2d-4e1d-93bb-30087f60b254"
      },
      "outputs": [
        {
          "name": "stdout",
          "output_type": "stream",
          "text": [
            "\u001b[1;36;48m\n",
            "\n",
            "   Welcome I AM DOCBOT 👩‍⚕️  \n",
            " \n",
            "Hi there!😀 \n",
            "How can i help You?\n",
            "\n",
            "ME:\n",
            "\n",
            "DOCBOT: Hello\n",
            "\n",
            "ME:\n",
            "\n",
            "DOCBOT: I am really sorry to hear that😞!\n",
            "Kindly describe your Symptoms?\n",
            "\n",
            "ME:\n",
            "\n",
            "DOCBOT: chickenpox  \n",
            "symptoms of chickenpox are sneezing and contact with weeping blisters.\n",
            "ME:\n",
            "\n",
            "DOCBOT: chickenpox  \n",
            "symptoms of chickenpox are sneezing and contact with weeping blisters.\n",
            "ME:\n"
          ]
        }
      ],
      "source": [
        "flag=True\n",
        "print(\"\\033[1;36;48m\\n\")\n",
        "print(\"   Welcome I AM DOCBOT 👩‍⚕️  \\n \")\n",
        "print(\"Hi there!😀 \\nHow can i help You?\\n\")\n",
        "while(flag==True):\n",
        "    user_response=print(\"ME:\")\n",
        "    user_response = input()\n",
        "    user_response=user_response.lower()\n",
        "    if(user_response!='bye'):\n",
        "        if(user_response=='thanks' or user_response=='thank you' ):\n",
        "            flag=False\n",
        "            print(\"DOCBOT: You are welcome..\\n\")\n",
        "        elif(greeting(user_response)!=None):\n",
        "                print(\"\\nDOCBOT: \"+greeting(user_response))\n",
        "        elif(well(user_response)!=None):\n",
        "                print(\"\\nDOCBOT: \"+well(user_response))\n",
        "        else:\n",
        "                print(\"\\nDOCBOT: \",end=\"\")\n",
        "                print(response(user_response))\n",
        "                sent_tokens.remove(user_response)\n",
        "    else:\n",
        "        flag=False\n",
        "        print(\"DOCBOT: Bye!Have a nice day!\\n\")"
      ]
    }
  ],
  "metadata": {
    "colab": {
      "collapsed_sections": [],
      "provenance": [],
      "include_colab_link": true
    },
    "kernelspec": {
      "display_name": "Python 3",
      "name": "python3"
    },
    "language_info": {
      "name": "python"
    }
  },
  "nbformat": 4,
  "nbformat_minor": 0
}